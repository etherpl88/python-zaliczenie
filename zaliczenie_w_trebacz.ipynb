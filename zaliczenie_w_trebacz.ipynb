{
 "cells": [
  {
   "cell_type": "code",
   "execution_count": 18,
   "id": "ef6be13b",
   "metadata": {},
   "outputs": [
    {
     "name": "stdout",
     "output_type": "stream",
     "text": [
      "Prognozowana ilość sprzedanych aut na rok 2023, uwzględniając czynniki: 999.9999565325289\n"
     ]
    }
   ],
   "source": [
    "import pandas as pd\n",
    "import numpy as np\n",
    "from sklearn.linear_model import LinearRegression\n",
    "\n",
    "# Wprowadź dane sprzedaży z ostatnich 5 lat\n",
    "sprzedaz = {\n",
    "    'rok': [2018, 2019, 2020, 2021, 2022],\n",
    "    'ilosc_aut': [500, 600, 700, 800, 900]\n",
    "}\n",
    "\n",
    "# Wprowadź prognozy ekspertów na bieżący rok\n",
    "prognozy_ekspertow = [450, 550, 750, 850, 950]\n",
    "df_sprzedaz = pd.DataFrame(sprzedaz)\n",
    "\n",
    "# Dodanie prognoz ekspertów do DataFrame'u sprzedaży\n",
    "df_sprzedaz['srednia_prognoz_ekspertow'] = prognozy_ekspertow\n",
    "\n",
    "# Dodanie różnicy między szacunkami a rzeczywistą sprzedażą\n",
    "df_sprzedaz['roznica_szacunkow'] = df_sprzedaz['ilosc_aut'] - df_sprzedaz['srednia_prognoz_ekspertow']\n",
    "\n",
    "# Dodanie danych ekonomicznych do DataFrame\n",
    "dane_ekonomiczne = {\n",
    "    'rok': [2018, 2019, 2020, 2021, 2022],\n",
    "    'inflacja': [2.5, 2.1, 1.5, 1.8, 2.2],\n",
    "    'stopa_procentowa': [4.5, 4.0, 3.5, 3.0, 3.2],\n",
    "    'wzrost_PKB': [3.0, 2.9, -5.0, 4.5, 3.5]\n",
    "}\n",
    "\n",
    "df_dane_ekonomiczne = pd.DataFrame(dane_ekonomiczne)\n",
    "\n",
    "# Dodanie danych dotyczących opinii klientów\n",
    "opinie_klientow = {\n",
    "    'rok': [2018, 2019, 2020, 2021, 2022],\n",
    "    'pozytywne_opinie': [100, 150, 200, 250, 300],\n",
    "    'negatywne_opinie': [10, 20, 30, 40, 50]\n",
    "}\n",
    "\n",
    "df_opinie_klientow = pd.DataFrame(opinie_klientow)\n",
    "\n",
    "# Łączenie danych sprzedaży z danymi ekonomicznymi\n",
    "df_polaczone = pd.merge(df_sprzedaz, df_dane_ekonomiczne, on='rok')\n",
    "\n",
    "# Łączenie df_polaczone z danymi dotyczącymi opinii klientów\n",
    "df_polaczone = pd.merge(df_polaczone, df_opinie_klientow, on='rok')\n",
    "\n",
    "# Przygotowanie danych treningowych\n",
    "X = df_polaczone.drop(columns=['rok', 'ilosc_aut'])\n",
    "# Przygotowanie danych treningowych\n",
    "X = df_polaczone.drop(columns=['rok', 'ilosc_aut'])\n",
    "y = df_polaczone['ilosc_aut']\n",
    "\n",
    "# Utworzenie i trenowanie modelu regresji wielokrotnej\n",
    "regressor = LinearRegression()\n",
    "regressor.fit(X, y)\n",
    "\n",
    "# Przygotowanie danych wejściowych dla prognozy na rok 2023\n",
    "# (dodaj rzeczywiste dane ekonomiczne i prognozy ekspertów gdy staną się dostępne oraz opinie klientów na rok 2023)\n",
    "prognoza_2023 = {\n",
    "    'srednia_prognoz_ekspertow': [1000],\n",
    "    'roznica_szacunkow': [0],  # Przykład: jeśli różnica wynosi 0, oznacza to, że prognoza ekspertów jest identyczna z rzeczywistą sprzedażą\n",
    "    'inflacja': [2.3],\n",
    "    'stopa_procentowa': [3.4],\n",
    "    'wzrost_PKB': [3.7],\n",
    "    'pozytywne_opinie': [350],\n",
    "    'negatywne_opinie': [60]\n",
    "}\n",
    "\n",
    "X_2023 = pd.DataFrame(prognoza_2023)\n",
    "\n",
    "# Prognozowanie ilości sprzedanych aut na rok 2023, uwzględniając czynniki\n",
    "prognoza_2023_ilosc_aut = regressor.predict(X_2023)\n",
    "\n",
    "print(f\"Prognozowana ilość sprzedanych aut na rok 2023, uwzględniając czynniki: {prognoza_2023_ilosc_aut[0]}\")\n"
   ]
  }
 ],
 "metadata": {
  "kernelspec": {
   "display_name": "Python 3 (ipykernel)",
   "language": "python",
   "name": "python3"
  },
  "language_info": {
   "codemirror_mode": {
    "name": "ipython",
    "version": 3
   },
   "file_extension": ".py",
   "mimetype": "text/x-python",
   "name": "python",
   "nbconvert_exporter": "python",
   "pygments_lexer": "ipython3",
   "version": "3.9.13"
  }
 },
 "nbformat": 4,
 "nbformat_minor": 5
}
